{
  "nbformat": 4,
  "nbformat_minor": 0,
  "metadata": {
    "colab": {
      "provenance": [],
      "collapsed_sections": []
    },
    "kernelspec": {
      "name": "python3",
      "display_name": "Python 3"
    },
    "language_info": {
      "name": "python"
    }
  },
  "cells": [
    {
      "cell_type": "code",
      "source": [
        "import numpy as np\n",
        "import matplotlib.pyplot as plt\n",
        "\n",
        "N = 10**4\n",
        "k = 30\n",
        "lista = []\n",
        "x = np.random.uniform(size=N+k)\n",
        "\n",
        "\n",
        "def Correlation(N, k):\n",
        "    suma = 0\n",
        "    for i in range(N):\n",
        "        suma += x[i]*x[i+k]\n",
        "        resultado = suma/(10**4)\n",
        "    return resultado\n",
        "\n",
        "\n",
        "for i in range(1,31):\n",
        "    lista.append(Correlation(N,i))\n",
        "    \n",
        "plt.plot(range(1,31), lista)\n",
        "plt.xlabel('k-esimo vecino')\n",
        "plt.ylabel('C(k)')\n",
        "plt.title(\"Generador numpy\")\n",
        "plt.ylim(0.2,0.3)\n",
        "plt.grid()\n",
        "\n",
        "\n"
      ],
      "metadata": {
        "colab": {
          "base_uri": "https://localhost:8080/",
          "height": 295
        },
        "id": "GTss6bRImpHY",
        "outputId": "dc12b21d-56f6-41fc-9f4b-39f95dad9b14"
      },
      "execution_count": 67,
      "outputs": [
        {
          "output_type": "display_data",
          "data": {
            "text/plain": [
              "<Figure size 432x288 with 1 Axes>"
            ],
            "image/png": "[encoded data removed]"
          },
          "metadata": {
            "needs_background": "light"
          }
        }
      ]
    },
    {
      "cell_type": "code",
      "source": [],
      "metadata": {
        "id": "turt2bwcns4J"
      },
      "execution_count": null,
      "outputs": []
    }
  ]
}