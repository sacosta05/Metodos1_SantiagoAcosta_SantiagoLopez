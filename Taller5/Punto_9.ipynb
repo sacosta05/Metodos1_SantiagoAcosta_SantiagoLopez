{
  "nbformat": 4,
  "nbformat_minor": 0,
  "metadata": {
    "colab": {
      "provenance": [],
      "collapsed_sections": []
    },
    "kernelspec": {
      "name": "python3",
      "display_name": "Python 3"
    },
    "language_info": {
      "name": "python"
    }
  },
  "cells": [
    {
      "cell_type": "code",
      "source": [
        "N=int(10**6)\n",
        "l=[]"
      ],
      "metadata": {
        "id": "Su9yj5GozbX3"
      },
      "execution_count": 98,
      "outputs": []
    },
    {
      "cell_type": "code",
      "source": [
        "\n",
        "def f(x1,x2,x3,x4,x5,x6,x7,x8):\n",
        "    return ((x1+x2+x3+x4+x5+x6+x7+x8)**2)/(2**7)"
      ],
      "metadata": {
        "id": "GTss6bRImpHY"
      },
      "execution_count": 96,
      "outputs": []
    },
    {
      "cell_type": "code",
      "source": [
        "\n",
        "for i in range(N):\n",
        "    \n",
        "    x1=np.random.uniform(0,1)\n",
        "    x2=np.random.uniform(0,1)\n",
        "    x3=np.random.uniform(0,1)\n",
        "    x4=np.random.uniform(0,1)\n",
        "    x5=np.random.uniform(0,1)\n",
        "    x6=np.random.uniform(0,1)\n",
        "    x7=np.random.uniform(0,1)\n",
        "    x8=np.random.uniform(0,1)\n",
        "    \n",
        "    l.append(f(x1,x2,x3,x4,x5,x6,x7,x8))\n",
        "    \n",
        "resultado = np.average(l)\n",
        "print(\"El valor de la integral usando el metodo de MonteCarlo:\" ,\"{:.3f}\".format(resultado)) \n",
        "print(\"El valor exacto de la integral: \",25/192)"
      ],
      "metadata": {
        "colab": {
          "base_uri": "https://localhost:8080/"
        },
        "id": "D2up4GI00SKD",
        "outputId": "4855d96d-cf48-438b-fc54-29c15f529c8f"
      },
      "execution_count": 107,
      "outputs": [
        {
          "output_type": "stream",
          "name": "stdout",
          "text": [
            "El valor de la integral usando el metodo de MonteCarlo: 0.130\n",
            "El valor exacto de la integral:  0.13020833333333334\n"
          ]
        }
      ]
    },
    {
      "cell_type": "code",
      "source": [],
      "metadata": {
        "id": "9JLoQZpv1tP6"
      },
      "execution_count": null,
      "outputs": []
    }
  ]
}