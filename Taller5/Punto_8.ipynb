{
  "nbformat": 4,
  "nbformat_minor": 0,
  "metadata": {
    "colab": {
      "provenance": [],
      "collapsed_sections": []
    },
    "kernelspec": {
      "name": "python3",
      "display_name": "Python 3"
    },
    "language_info": {
      "name": "python"
    }
  },
  "cells": [
    {
      "cell_type": "code",
      "source": [
        "\n",
        "import numpy as np \n",
        "\n",
        "def gamma(n):\n",
        "    return np.math.factorial(n-1)\n",
        "  "
      ],
      "metadata": {
        "id": "D8bo_7RR2k6X"
      },
      "execution_count": 150,
      "outputs": []
    },
    {
      "cell_type": "code",
      "source": [
        "a=2\n",
        "b=4\n",
        "N=10000\n",
        "x=np.random.uniform(0,1,size=int(N))\n",
        "\n",
        "def funcion(x,a,b):\n",
        "    return (gamma(a+b)/(gamma(a)*gamma(b)))*(x**(a-1))*((1-x)**(b-1))"
      ],
      "metadata": {
        "id": "KurmIw956B1z"
      },
      "execution_count": 151,
      "outputs": []
    },
    {
      "cell_type": "code",
      "source": [
        "maximo= max(funcion(x,a,b))\n",
        "maximo"
      ],
      "metadata": {
        "colab": {
          "base_uri": "https://localhost:8080/"
        },
        "id": "DFn4CRuv7eUT",
        "outputId": "df25ad46-a51a-45e8-ed83-297e31b4dbb4"
      },
      "execution_count": 152,
      "outputs": [
        {
          "output_type": "execute_result",
          "data": {
            "text/plain": [
              "2.109374998709045"
            ]
          },
          "metadata": {},
          "execution_count": 152
        }
      ]
    },
    {
      "cell_type": "code",
      "source": [
        "x = np.random.uniform(0, 1, N)\n",
        "y = np.random.uniform(0, maximo, N)\n",
        "\n",
        "lista=[]\n",
        "\n",
        "for i in range(len(x)):\n",
        "    if y[i]< funcion(x[i],a,b):\n",
        "        lista.append(x[i])\n",
        "\n",
        "resultado= (len(lista)/len(x))*maximo\n",
        "incertidumbre=1/np.sqrt(N)\n",
        "\n",
        "print('El valor de la integral utilizando el metodo de acepatación y rechazo:', resultado)\n",
        "print('El valor de la incertidumbre:', incertidumbre)"
      ],
      "metadata": {
        "colab": {
          "base_uri": "https://localhost:8080/"
        },
        "id": "SE3RWrDE_cwk",
        "outputId": "23b13178-ff6b-40b6-e5bb-9e227c660b3a"
      },
      "execution_count": 153,
      "outputs": [
        {
          "output_type": "stream",
          "name": "stdout",
          "text": [
            "El valor de la integral utilizando el metodo de acepatación y rechazo: 1.0192499993762105\n",
            "El valor de la incertidumbre: 0.01\n"
          ]
        }
      ]
    },
    {
      "cell_type": "code",
      "source": [],
      "metadata": {
        "id": "nxq5WEMiBTao"
      },
      "execution_count": null,
      "outputs": []
    }
  ]
}