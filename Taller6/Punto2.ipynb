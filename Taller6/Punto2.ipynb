{
  "nbformat": 4,
  "nbformat_minor": 0,
  "metadata": {
    "colab": {
      "provenance": []
    },
    "kernelspec": {
      "name": "python3",
      "display_name": "Python 3"
    },
    "language_info": {
      "name": "python"
    }
  },
  "cells": [
    {
      "cell_type": "code",
      "execution_count": 2,
      "metadata": {
        "id": "BPRTV53lpDXj"
      },
      "outputs": [],
      "source": [
        "import numpy as np"
      ]
    },
    {
      "cell_type": "code",
      "source": [
        "class Sol_sist_lin:\n",
        "  def Jacobi(A,b,itmax=1000,error = 1e-10):\n",
        "    \n",
        "    M,N = A.shape\n",
        "    \n",
        "    x = np.zeros(N)\n",
        "    \n",
        "    sumk = np.zeros_like(x)\n",
        "    \n",
        "    \n",
        "    it = 0\n",
        "    \n",
        "    residuo = np.linalg.norm( b - np.dot(A,x) )\n",
        "    \n",
        "    while ( residuo > error and it < itmax ):\n",
        "        \n",
        "        it += 1\n",
        "        \n",
        "        for i in range(M):\n",
        "            sum_ = 0\n",
        "            for j in range(N):\n",
        "                if i != j:\n",
        "                    sum_ += A[i][j]*x[j]\n",
        "            sumk[i] = sum_\n",
        "          \n",
        "        for i in range(M):\n",
        "            \n",
        "            if A[i,i] != 0:\n",
        "                x[i] = (b[i] - sumk[i])/A[i,i]\n",
        "            else:\n",
        "                print('No invertible con Jacobi')\n",
        "        \n",
        "        print(x)\n",
        "        residuo = np.linalg.norm( b - np.dot(A,x) )\n",
        "        \n",
        "    return x,it,residuo\n",
        "\n",
        "\n",
        "\n",
        "\n",
        "  \n",
        "\n",
        "\n",
        "  def Gauss_Seidel(A,B):\n",
        "    X0  = np.array([0.,0.,0.])\n",
        "\n",
        "    tolera = 0.00001\n",
        "    iteramax = 100\n",
        "\n",
        "    tamano = np.shape(A)\n",
        "    n = tamano[0]\n",
        "    m = tamano[1]\n",
        "\n",
        "    X = np.copy(X0)\n",
        "    diferencia = np.ones(n, dtype=float)\n",
        "    errado = 2*tolera\n",
        "\n",
        "    itera = 0\n",
        "    while not(errado<=tolera or itera>iteramax):\n",
        "        for i in range(0,n,1):\n",
        "          suma = 0 \n",
        "          for j in range(0,m,1):\n",
        "              if (i!=j): \n",
        "                suma = suma-A[i,j]*X[j]\n",
        "        \n",
        "          nuevo = (B[i]+suma)/A[i,i]\n",
        "          diferencia[i] = np.abs(nuevo-X[i])\n",
        "          X[i] = nuevo\n",
        "        errado = np.max(diferencia)\n",
        "        itera = itera + 1\n",
        "\n",
        "\n",
        "    X = np.transpose([X])\n",
        "\n",
        "    if (itera>iteramax):\n",
        "      X=0\n",
        "    \n",
        "    print(\"Número de iteraciones: \", itera)\n",
        "    print(\"Resultado: \", X)\n"
      ],
      "metadata": {
        "id": "b6sGCdeApWh8"
      },
      "execution_count": 3,
      "outputs": []
    },
    {
      "cell_type": "code",
      "source": [],
      "metadata": {
        "id": "KZWqifWJqMTn"
      },
      "execution_count": null,
      "outputs": []
    }
  ]
}