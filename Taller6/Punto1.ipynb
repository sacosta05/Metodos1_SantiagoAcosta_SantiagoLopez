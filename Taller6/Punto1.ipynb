{
  "nbformat": 4,
  "nbformat_minor": 0,
  "metadata": {
    "colab": {
      "provenance": []
    },
    "kernelspec": {
      "name": "python3",
      "display_name": "Python 3"
    },
    "language_info": {
      "name": "python"
    }
  },
  "cells": [
    {
      "cell_type": "code",
      "execution_count": 4,
      "metadata": {
        "id": "tfRv1El3ctze"
      },
      "outputs": [],
      "source": [
        "import numpy as np"
      ]
    },
    {
      "cell_type": "markdown",
      "source": [
        "Usando el sistema lineal:\\\n",
        "                          3x - y - z = 1 \\\n",
        "                          -x + 3y + z = 3 \\\n",
        "                          2x + y + 4z = 7"
      ],
      "metadata": {
        "id": "0m728rldgTBJ"
      }
    },
    {
      "cell_type": "code",
      "source": [
        "A = np.array([[3 , -1, -1],\n",
        "              [-1 , 3 , 1],\n",
        "              [2 , 1 , 4]])\n",
        "\n",
        "B = np.array([1,3,7])\n",
        "\n",
        "X0  = np.array([0.,0.,0.])\n",
        "\n",
        "tolera = 0.00001\n",
        "iteramax = 100\n",
        "\n",
        "tamano = np.shape(A)\n",
        "n = tamano[0]\n",
        "m = tamano[1]\n",
        "\n",
        "X = np.copy(X0)\n",
        "diferencia = np.ones(n, dtype=float)\n",
        "errado = 2*tolera\n",
        "\n",
        "itera = 0\n",
        "while not(errado<=tolera or itera>iteramax):\n",
        "    for i in range(0,n,1):\n",
        "        suma = 0 \n",
        "        for j in range(0,m,1):\n",
        "            if (i!=j): \n",
        "                suma = suma-A[i,j]*X[j]\n",
        "        \n",
        "        nuevo = (B[i]+suma)/A[i,i]\n",
        "        diferencia[i] = np.abs(nuevo-X[i])\n",
        "        X[i] = nuevo\n",
        "    errado = np.max(diferencia)\n",
        "    itera = itera + 1\n",
        "\n",
        "\n",
        "X = np.transpose([X])\n",
        "\n",
        "if (itera>iteramax):\n",
        "    X=0\n",
        "    \n",
        "print(X)"
      ],
      "metadata": {
        "colab": {
          "base_uri": "https://localhost:8080/"
        },
        "id": "qfUtiK1EgJbX",
        "outputId": "1b60286b-4c8a-41f6-f5b5-f1f3c2a5ccbe"
      },
      "execution_count": 5,
      "outputs": [
        {
          "output_type": "stream",
          "name": "stdout",
          "text": [
            "[[1.00000132]\n",
            " [0.99999947]\n",
            " [0.99999947]]\n"
          ]
        }
      ]
    }
  ]
}