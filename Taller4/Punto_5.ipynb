{
  "nbformat": 4,
  "nbformat_minor": 0,
  "metadata": {
    "colab": {
      "provenance": [],
      "collapsed_sections": []
    },
    "kernelspec": {
      "name": "python3",
      "display_name": "Python 3"
    },
    "language_info": {
      "name": "python"
    }
  },
  "cells": [
    {
      "cell_type": "code",
      "execution_count": 1,
      "metadata": {
        "id": "4zrfmaRSrJf4"
      },
      "outputs": [],
      "source": [
        "import numpy as np\n",
        "import matplotlib.pyplot as plt\n",
        "from scipy import integrate"
      ]
    },
    {
      "cell_type": "code",
      "source": [
        "class Integrator:\n",
        "    \n",
        "    def __init__(self, x,y):\n",
        "        \n",
        "        self.x = x\n",
        "        self.y = y\n",
        "        self.h = self.x[1] - self.x[0]\n",
        "        \n",
        "        self.integral = 0.\n",
        "        \n",
        "    def Trapezoid(self):\n",
        "        \n",
        "        self.integral = 0.\n",
        "        \n",
        "        self.integral += 0.5*(self.y[0] + self.y[-1])\n",
        "        \n",
        "        self.integral += np.sum( self.y[1:-1] )\n",
        "        \n",
        "        return self.integral*self.h\n",
        "    \n",
        "    def Trapezoid_error(self,f):\n",
        "        \n",
        "        d = (f( self.x + self.h ) - 2*f(self.x) + f( self.x - self.h))/self.h**2 \n",
        "             \n",
        "        max_ = np.max(np.abs(d))\n",
        "        \n",
        "        self.error = (max_* (self.x[-1]-self.x[0])**3 )/(12*(len(self.x)-1)**2)\n",
        "        \n",
        "        return self.error"
      ],
      "metadata": {
        "id": "6pMiyONK4klU"
      },
      "execution_count": 10,
      "outputs": []
    },
    {
      "cell_type": "code",
      "source": [
        "f = lambda x: np.exp(-(x**2))"
      ],
      "metadata": {
        "id": "b23FnEIM4ncA"
      },
      "execution_count": 3,
      "outputs": []
    },
    {
      "cell_type": "code",
      "source": [
        "n = 1000\n",
        "error = 1\n",
        "\n",
        "while error > 0.005:\n",
        "    n += 1\n",
        "    x = np.linspace( 0 , 1 , n+1 )\n",
        "    y = f(x)\n",
        "    \n",
        "    resultado_inicial = Integrator(x,y)\n",
        "    resultado_final = resultado_inicial.Trapezoid()\n",
        "    error_1 = resultado_inicial.Trapezoid_error(f)\n",
        "    error = error_1\n",
        "\n",
        "print(\"El error es: \" + str(error) )\n",
        "print(\"El resultado de la integral es: \" +str( resultado_final))\n",
        "print(\"El número de puntos es: \" + str(n))"
      ],
      "metadata": {
        "colab": {
          "base_uri": "https://localhost:8080/"
        },
        "id": "S1JgR_S24tZZ",
        "outputId": "f9357836-f37c-4dda-f73a-f656cc78abea"
      },
      "execution_count": 14,
      "outputs": [
        {
          "output_type": "stream",
          "name": "stdout",
          "text": [
            "El error es: 1.6633374966268377e-07\n",
            "El resultado de la integral es: 0.7468240716216274\n",
            "El numero de puntos es: 1001\n"
          ]
        }
      ]
    },
    {
      "cell_type": "code",
      "source": [],
      "metadata": {
        "id": "K6DGm_9N40WP"
      },
      "execution_count": null,
      "outputs": []
    }
  ]
}