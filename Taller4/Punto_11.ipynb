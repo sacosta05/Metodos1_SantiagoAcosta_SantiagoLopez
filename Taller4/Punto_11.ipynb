{
  "metadata": {
    "kernelspec": {
      "name": "python",
      "display_name": "Python (Pyodide)",
      "language": "python"
    },
    "language_info": {
      "codemirror_mode": {
        "name": "python",
        "version": 3
      },
      "file_extension": ".py",
      "mimetype": "text/x-python",
      "name": "python",
      "nbconvert_exporter": "python",
      "pygments_lexer": "ipython3",
      "version": "3.8"
    }
  },
  "nbformat_minor": 5,
  "nbformat": 4,
  "cells": [
    {
      "cell_type": "code",
      "source": "import matplotlib\nimport numpy as np\nimport matplotlib.pyplot as plt",
      "metadata": {
        "trusted": true
      },
      "execution_count": 68,
      "outputs": [],
      "id": "8ddc3d87-1f56-456d-a628-5821457c6d06"
    },
    {
      "cell_type": "code",
      "source": "def func(x):\n     \n    return (np.sqrt(1+(np.exp(-x**2))))",
      "metadata": {
        "trusted": true
      },
      "execution_count": 69,
      "outputs": [],
      "id": "ba928fa8-25c7-4bbe-85fa-9f56c28027d6"
    },
    {
      "cell_type": "code",
      "source": "def calcular(limite_inf, limite_sup, n ):\n     \n    h = (float(limite_sup - limite_inf) / n)\n    sum = func(limite_inf) + func(limite_sup);\n  \n    # Calculates value till integral limit\n    for i in range(1, n ):\n        if (i % 3 == 0):\n            sum = sum + 2 * func(limite_inf + i * h)\n        else:\n            sum = sum + 3 * func(limite_inf + i * h)\n     \n    return ((float( 3 * h) / 8 ) * sum )",
      "metadata": {
        "trusted": true
      },
      "execution_count": 70,
      "outputs": [],
      "id": "48befe44-a034-4dc2-b9fa-2908662e8256"
    },
    {
      "cell_type": "code",
      "source": "n = 100\nlimite_inf = -1\nlimite_sup = 1",
      "metadata": {
        "trusted": true
      },
      "execution_count": 71,
      "outputs": [],
      "id": "b66e86c3-149f-4d93-93de-1c3448175a37"
    },
    {
      "cell_type": "code",
      "source": "integral_res = calcular(limite_inf, limite_sup, n)\nprint (round(integral_res, 10))",
      "metadata": {
        "trusted": true
      },
      "execution_count": 72,
      "outputs": [
        {
          "name": "stdout",
          "text": "2.6329936097\n",
          "output_type": "stream"
        }
      ],
      "id": "a89e5969-63e8-4ee7-b4be-5632bd76f71a"
    },
    {
      "cell_type": "code",
      "source": "",
      "metadata": {},
      "execution_count": null,
      "outputs": [],
      "id": "31bf102b-7645-48ad-bd19-b482e70db5a9"
    }
  ]
}