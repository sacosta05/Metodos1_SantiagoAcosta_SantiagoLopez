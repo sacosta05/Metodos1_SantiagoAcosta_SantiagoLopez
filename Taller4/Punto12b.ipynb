{
  "metadata": {
    "language_info": {
      "codemirror_mode": {
        "name": "python",
        "version": 3
      },
      "file_extension": ".py",
      "mimetype": "text/x-python",
      "name": "python",
      "nbconvert_exporter": "python",
      "pygments_lexer": "ipython3",
      "version": "3.8"
    },
    "kernelspec": {
      "name": "python",
      "display_name": "Python (Pyodide)",
      "language": "python"
    }
  },
  "nbformat_minor": 4,
  "nbformat": 4,
  "cells": [
    {
      "cell_type": "code",
      "source": "import numpy as np\nfrom sympy import *",
      "metadata": {
        "trusted": true
      },
      "execution_count": 10,
      "outputs": []
    },
    {
      "cell_type": "code",
      "source": "x = Symbol('x',Real=True)\nf=1/(x**2)\nn=3\na=1\nb=2\nequis=[0, sqrt(3/5), -sqrt(3/5)]\nw=[8/9, 5/9, 5/9]\n\nsuma=0\nfor i in range(n):\n    suma = suma + w[i]*f.subs(x, (((b-a)/2)*equis[i]+((a+b)/2)))",
      "metadata": {
        "trusted": true
      },
      "execution_count": 16,
      "outputs": []
    },
    {
      "cell_type": "code",
      "source": "resultado=(suma*((b-a)/2))\nprint(resultado)",
      "metadata": {
        "trusted": true
      },
      "execution_count": 17,
      "outputs": [
        {
          "name": "stdout",
          "text": "0.499874023683547\n",
          "output_type": "stream"
        }
      ]
    },
    {
      "cell_type": "code",
      "source": "",
      "metadata": {},
      "execution_count": null,
      "outputs": []
    }
  ]
}