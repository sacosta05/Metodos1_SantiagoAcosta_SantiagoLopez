def factorial(num): 
    if num == 0 or num == 1:
        return 1
        
    else: 
        factor = 1
        while(num > 1): 
            factor *= num 
            num -= 1
        return factor
    
def combinaciones(n,m):
    resta = n-m
    return int((factorial(n))/(factorial(resta)*factorial(m)))


print ("Con 22 jugadores se pueden hacer " + str(combinaciones(22,11)) + " equipos de 11")

print ("Con 22 jugadores, y con arquero fijo, se pueden hacer " + str(combinaciones(21,10)) + " equipos de 11")

    