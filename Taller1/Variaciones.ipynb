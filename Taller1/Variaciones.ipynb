

def factorial(num): 
    if num == 0 or num == 1:
        return 1
        
    else: 
        factor = 1
        while(num > 1): 
            factor *= num 
            num -= 1
        return factor
    
def variaciones(n,r):
    resta = n-r
    return (factorial(n))/factorial(resta)


print (variaciones(6,3))
    