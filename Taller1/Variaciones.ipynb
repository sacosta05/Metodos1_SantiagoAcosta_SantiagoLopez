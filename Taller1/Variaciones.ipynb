def factorial(num): 
    if num == 0 or num == 1:
        return 1
        
    else: 
        factor = 1
        while(num > 1): 
            factor *= num 
            num -= 1
        return factor 

def variaciones(n,r):
    resta = n-r
    factor = int(factorial(n)/factorial(resta))
    return factor
    
    
    
print ("Se pueden acomodar 6 carros en 3 estacionamientos de " + str(variaciones(6,3)) + " formas.")

