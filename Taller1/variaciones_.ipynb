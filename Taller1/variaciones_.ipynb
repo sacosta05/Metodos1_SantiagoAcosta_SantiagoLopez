{
  "metadata": {
    "language_info": {
      "codemirror_mode": {
        "name": "python",
        "version": 3
      },
      "file_extension": ".py",
      "mimetype": "text/x-python",
      "name": "python",
      "nbconvert_exporter": "python",
      "pygments_lexer": "ipython3",
      "version": "3.8"
    },
    "kernelspec": {
      "name": "python",
      "display_name": "Python (Pyodide)",
      "language": "python"
    }
  },
  "nbformat_minor": 4,
  "nbformat": 4,
  "cells": [
    {
      "cell_type": "code",
      "source": "def factorial(num):\n    if num == 0 or num == 1:\n        return 1\n\n    else:\n        factor = 1\n        while (num > 1):\n            factor *= num\n            num -= 1\n        return factor\n\n\ndef variaciones(n, r):\n    resta = n - r\n    factor = int(factorial(n) / factorial(resta))\n    return factor\n\nprint(\"Se pueden acomodar 6 carros en 3 estacionamientos de \" + str(variaciones(6, 3)) + \" formas.\")",
      "metadata": {
        "trusted": true
      },
      "execution_count": 1,
      "outputs": [
        {
          "name": "stdout",
          "text": "Se pueden acomodar 6 carros en 3 estacionamientos de 120 formas.\n",
          "output_type": "stream"
        }
      ]
    },
    {
      "cell_type": "code",
      "source": "",
      "metadata": {},
      "execution_count": null,
      "outputs": []
    }
  ]
}