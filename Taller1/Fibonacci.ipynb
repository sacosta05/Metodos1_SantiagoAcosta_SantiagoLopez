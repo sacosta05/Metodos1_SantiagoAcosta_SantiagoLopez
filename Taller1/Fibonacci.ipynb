{
  "nbformat": 4,
  "nbformat_minor": 0,
  "metadata": {
    "colab": {
      "name": "Fibonacci.ipynb",
      "provenance": [],
      "collapsed_sections": []
    },
    "kernelspec": {
      "name": "python3",
      "display_name": "Python 3"
    },
    "language_info": {
      "name": "python"
    }
  },
  "cells": [
    {
      "cell_type": "markdown",
      "source": [
        "**Sucesión de Fibonacci**\n",
        "\n",
        "La sucesión de Fibonnaci está definida por la siguiente definición recurrente:\n",
        "\n",
        "$$f0 = 0$$\n",
        "$$f1 = 1$$\n",
        "$$fn = fn−1+fn−2$$ \n",
        "\n",
        "Encuentre los primeros 20 terminos de esta sucesión. Y grafique los datos obtenidos."
      ],
      "metadata": {
        "id": "MWXDDUYpyyeR"
      }
    },
    {
      "cell_type": "code",
      "execution_count": 2,
      "metadata": {
        "colab": {
          "base_uri": "https://localhost:8080/"
        },
        "id": "Bhk3j-jZDJ0r",
        "outputId": "0fe1b6bf-08e3-48b2-81a5-62a17efc60ef"
      },
      "outputs": [
        {
          "output_type": "execute_result",
          "data": {
            "text/plain": [
              "[0,\n",
              " 1,\n",
              " 1,\n",
              " 2,\n",
              " 3,\n",
              " 5,\n",
              " 8,\n",
              " 13,\n",
              " 21,\n",
              " 34,\n",
              " 55,\n",
              " 89,\n",
              " 144,\n",
              " 233,\n",
              " 377,\n",
              " 610,\n",
              " 987,\n",
              " 1597,\n",
              " 2584,\n",
              " 4181,\n",
              " 6765]"
            ]
          },
          "metadata": {},
          "execution_count": 2
        }
      ],
      "source": [
        "import numpy as np\n",
        "import matplotlib.pyplot as plt\n",
        "\n",
        "## Primeros 20 terminos de la sucesión Fibonacci sin incluir el numero 0 como el primer termino\n",
        "\n",
        "def fib(n):\n",
        "     if n in {0, 1}:  \n",
        "         return n\n",
        "     return fib(n - 1) + fib(n - 2)  \n",
        "\n",
        "\n",
        "[fib(n) for n in range(21)]\n"
      ]
    },
    {
      "cell_type": "code",
      "source": [
        "x= list(range(21))\n",
        "y=[fib(n) for n in range(21)]\n",
        "\n",
        "plt.plot(x , y, c='g', label='Serie Fibonacci')\n",
        "plt.legend()\n",
        "plt.show()"
      ],
      "metadata": {
        "colab": {
          "base_uri": "https://localhost:8080/",
          "height": 266
        },
        "id": "3rqCwJDADZ2d",
        "outputId": "480014da-7e14-404f-dffa-fecb71271a07"
      },
      "execution_count": 14,
      "outputs": [
        {
          "output_type": "display_data",
          "data": {
            "text/plain": [
              "<Figure size 432x288 with 1 Axes>"
            ],
            "image/png": "[encoded data removed]"
          },
          "metadata": {
            "needs_background": "light"
          }
        }
      ]
    },
    {
      "cell_type": "markdown",
      "source": [
        "**El número aureo y relación con la sucesión de Fibonacci**"
      ],
      "metadata": {
        "id": "3QGZH2plzPKl"
      }
    },
    {
      "cell_type": "code",
      "source": [
        "## Calculo del número áureo\n",
        "\n",
        "teo_aureo = (1+ np.sqrt(5))/2\n",
        "teo_aureo"
      ],
      "metadata": {
        "colab": {
          "base_uri": "https://localhost:8080/"
        },
        "id": "FIdSFJafGYFz",
        "outputId": "14a4715d-48cd-4180-991f-8e89e2829d11"
      },
      "execution_count": 35,
      "outputs": [
        {
          "output_type": "execute_result",
          "data": {
            "text/plain": [
              "1.618033988749895"
            ]
          },
          "metadata": {},
          "execution_count": 35
        }
      ]
    },
    {
      "cell_type": "code",
      "source": [
        "## Calculo del número áureo dada la suceción de Fibonacci\n",
        "\n",
        "def aureo(n):\n",
        "    if n in {0,1}:  \n",
        "         return n\n",
        "    return fib(n) / fib(n - 1)\n",
        "\n",
        "[aureo(n) for n in range(21)]"
      ],
      "metadata": {
        "colab": {
          "base_uri": "https://localhost:8080/"
        },
        "id": "t3VJT2gODr3H",
        "outputId": "56a8579a-749e-4524-e4c4-33cf9075c6a2"
      },
      "execution_count": 28,
      "outputs": [
        {
          "output_type": "execute_result",
          "data": {
            "text/plain": [
              "[0,\n",
              " 1,\n",
              " 1.0,\n",
              " 2.0,\n",
              " 1.5000000000000002,\n",
              " 1.6666666666666667,\n",
              " 1.6,\n",
              " 1.6249999999999998,\n",
              " 1.6153846153846154,\n",
              " 1.619047619047619,\n",
              " 1.6176470588235294,\n",
              " 1.6181818181818184,\n",
              " 1.6179775280898878,\n",
              " 1.6180555555555554,\n",
              " 1.6180257510729616,\n",
              " 1.6180371352785148,\n",
              " 1.6180327868852458,\n",
              " 1.618034447821682,\n",
              " 1.6180338134001255,\n",
              " 1.618034055727554,\n",
              " 1.6180339631667067]"
            ]
          },
          "metadata": {},
          "execution_count": 28
        }
      ]
    },
    {
      "cell_type": "code",
      "source": [
        "x= list(range(21))\n",
        "y=[aureo(n) for n in range(21)]\n",
        "z = (np.zeros(21)+ teo_aureo)\n",
        "\n",
        "\n",
        "\n",
        "plt.plot(x , y, c='g', label='Estimación usando la serie')\n",
        "plt.plot(x , z, c='r', label='Número aureo', linestyle='--')\n",
        "plt.xlim(0,20)\n",
        "plt.ylim(1,2)\n",
        "plt.legend()\n",
        "plt.show()"
      ],
      "metadata": {
        "colab": {
          "base_uri": "https://localhost:8080/",
          "height": 269
        },
        "id": "iNbCSvzeNxjx",
        "outputId": "446bcc31-cd12-457d-b07b-06cb9bd79e79"
      },
      "execution_count": 51,
      "outputs": [
        {
          "output_type": "display_data",
          "data": {
            "text/plain": [
              "<Figure size 432x288 with 1 Axes>"
            ],
            "image/png": "[encoded data removed]"
          },
          "metadata": {
            "needs_background": "light"
          }
        }
      ]
    }
  ]
}