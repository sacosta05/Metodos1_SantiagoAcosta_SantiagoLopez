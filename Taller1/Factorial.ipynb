{
  "metadata": {
    "language_info": {
      "codemirror_mode": {
        "name": "python",
        "version": 3
      },
      "file_extension": ".py",
      "mimetype": "text/x-python",
      "name": "python",
      "nbconvert_exporter": "python",
      "pygments_lexer": "ipython3",
      "version": "3.8"
    },
    "kernelspec": {
      "name": "python",
      "display_name": "Python (Pyodide)",
      "language": "python"
    }
  },
  "nbformat_minor": 4,
  "nbformat": 4,
  "cells": [
    {
      "cell_type": "code",
      "source": "1. Escriba una función que calcule el factorial de n, con n ∈ N.",
      "metadata": {},
      "execution_count": null,
      "outputs": []
    },
    {
      "cell_type": "code",
      "source": "def factorial(num): \n    if num == 0 or num == 1:\n        return 1\n        \n    else: \n        factor = 1\n        while(num > 1): \n            factor *= num \n            num -= 1\n        return factor \n\n",
      "metadata": {
        "trusted": true
      },
      "execution_count": 1,
      "outputs": []
    },
    {
      "cell_type": "code",
      "source": "Calcule los primeros 20 números factoriales.",
      "metadata": {},
      "execution_count": null,
      "outputs": []
    },
    {
      "cell_type": "code",
      "source": "for i in range(1,21):\n    print(str(i) + \"   \" + str(  factorial(i)))",
      "metadata": {
        "trusted": true
      },
      "execution_count": 2,
      "outputs": [
        {
          "name": "stdout",
          "text": "1   1\n2   2\n3   6\n4   24\n5   120\n6   720\n7   5040\n8   40320\n9   362880\n10   3628800\n11   39916800\n12   479001600\n13   6227020800\n14   87178291200\n15   1307674368000\n16   20922789888000\n17   355687428096000\n18   6402373705728000\n19   121645100408832000\n20   2432902008176640000\n",
          "output_type": "stream"
        }
      ]
    },
    {
      "cell_type": "code",
      "source": "2. Escriba una función que calcule las variaciones sin repetición de n elemenos tomados de r en r:",
      "metadata": {},
      "execution_count": null,
      "outputs": []
    },
    {
      "cell_type": "code",
      "source": "def variaciones(n, r):\n    resta = n - r\n    factor = int(factorial(n) / factorial(resta))\n    return factor\n\nprint(\"Se pueden acomodar 6 carros en 3 estacionamientos de \" + str(variaciones(6, 3)) + \" formas.\")",
      "metadata": {
        "trusted": true
      },
      "execution_count": 3,
      "outputs": [
        {
          "name": "stdout",
          "text": "Se pueden acomodar 6 carros en 3 estacionamientos de 120 formas.\n",
          "output_type": "stream"
        }
      ]
    },
    {
      "cell_type": "code",
      "source": "Escriba una función que calcule las combinaciones sin repetición de n elementos tomados de m\nen m, con n > m.\na) Cualquiera puede ser el arquero. \nb) Ya sabemos qui´en ser´a el arquero. ",
      "metadata": {},
      "execution_count": null,
      "outputs": []
    },
    {
      "cell_type": "code",
      "source": "def combinaciones(n,m):\n    resta = n-m\n    return int((factorial(n))/(factorial(resta)*factorial(m)))\n\n\nprint (\"Con 22 jugadores se pueden hacer \" + str(combinaciones(22,11)) + \" equipos de 11\")\n\nprint (\"Con 22 jugadores, y con arquero fijo, se pueden hacer \" + str(combinaciones(21,10)) + \" equipos de 11\")\n\n    ",
      "metadata": {
        "trusted": true
      },
      "execution_count": 4,
      "outputs": [
        {
          "name": "stdout",
          "text": "Con 22 jugadores se pueden hacer 705432 equipos de 11\nCon 22 jugadores, y con arquero fijo, se pueden hacer 352716 equipos de 11\n",
          "output_type": "stream"
        }
      ]
    }
  ]
}