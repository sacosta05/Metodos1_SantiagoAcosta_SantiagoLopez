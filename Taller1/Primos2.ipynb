{
  "nbformat": 4,
  "nbformat_minor": 0,
  "metadata": {
    "colab": {
      "name": "Primos2.ipynb",
      "provenance": [],
      "collapsed_sections": []
    },
    "kernelspec": {
      "name": "python3",
      "display_name": "Python 3"
    },
    "language_info": {
      "name": "python"
    }
  },
  "cells": [
    {
      "cell_type": "markdown",
      "source": [
        "**Espiral de Arquímedes**\n",
        "\n",
        "$$r = a + bθ $$\n",
        "\n",
        "Haga a = 0 y b = 1 y calcule las posiciones r entre θ ∈ [0., 2π]"
      ],
      "metadata": {
        "id": "xuv0hz01x8cb"
      }
    },
    {
      "cell_type": "code",
      "source": [
        "## ecuacion r = a + b(theta)\n",
        "\n",
        "import numpy as np\n",
        "import matplotlib.pyplot as plt\n",
        "\n",
        "a=0\n",
        "b=1\n",
        "\n",
        "theta = np.linspace(0,2*np.pi,1000)\n",
        "x = (a + (b*theta))*np.cos(theta)\n",
        "y = (a + (b*theta))*np.sin(theta)\n",
        "\n",
        "\n",
        "plt.figure()\n",
        "plt.xlim(-15, 20)\n",
        "plt.ylim(-15, 20)\n",
        "plt.plot(x,y,label='Espiral de Arquímedes entre θ ∈ [0., 2π]', c='r')\n",
        "plt.legend()\n",
        "plt.show()"
      ],
      "metadata": {
        "colab": {
          "base_uri": "https://localhost:8080/",
          "height": 269
        },
        "id": "Kh93h98dHmmz",
        "outputId": "73379dd7-1f44-4170-b2e8-506bc13b625a"
      },
      "execution_count": 40,
      "outputs": [
        {
          "output_type": "display_data",
          "data": {
            "text/plain": [
              "<Figure size 432x288 with 1 Axes>"
            ],
            "image/png": "[encoded data removed]"
          },
          "metadata": {
            "needs_background": "light"
          }
        }
      ]
    },
    {
      "cell_type": "code",
      "source": [
        ""
      ],
      "metadata": {
        "id": "dKJspbE9gnUC"
      },
      "execution_count": null,
      "outputs": []
    }
  ]
}