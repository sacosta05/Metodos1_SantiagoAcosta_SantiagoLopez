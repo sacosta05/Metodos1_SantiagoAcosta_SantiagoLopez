{
  "metadata": {
    "language_info": {
      "codemirror_mode": {
        "name": "python",
        "version": 3
      },
      "file_extension": ".py",
      "mimetype": "text/x-python",
      "name": "python",
      "nbconvert_exporter": "python",
      "pygments_lexer": "ipython3",
      "version": "3.8"
    },
    "kernelspec": {
      "name": "python",
      "display_name": "Python (Pyodide)",
      "language": "python"
    }
  },
  "nbformat_minor": 4,
  "nbformat": 4,
  "cells": [
    {
      "cell_type": "code",
      "source": "Figura de Lissajous",
      "metadata": {},
      "execution_count": null,
      "outputs": []
    },
    {
      "cell_type": "code",
      "source": "from numpy import sin,pi,linspace\nfrom pylab import plot,show,subplot,axis\nimport matplotlib.pyplot as plt\n\nw2 = [1,1,1,2,3,3,4,5] \nw1 = [1,2,3,3,4,5,5,6] \ndeltas=[0, pi/4, pi/2]\nt = linspace(0,2*pi,300)\nplt.figure(figsize=(12,25))\nfor i in range(len(w1)):\n    for k, delta in enumerate(deltas):\n        x = sin(w1[i] * t)\n        y = sin(w2[i] * t + delta)\n        plt.subplot(8,5,i*len(deltas)+k+1)\n        plt.plot(x,y)\n        plt.axis(\"off\")\nplt.show()",
      "metadata": {
        "trusted": true
      },
      "execution_count": null,
      "outputs": []
    },
    {
      "cell_type": "code",
      "source": "",
      "metadata": {},
      "execution_count": null,
      "outputs": []
    }
  ]
}