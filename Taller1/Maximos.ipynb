{
  "metadata": {
    "language_info": {
      "codemirror_mode": {
        "name": "python",
        "version": 3
      },
      "file_extension": ".py",
      "mimetype": "text/x-python",
      "name": "python",
      "nbconvert_exporter": "python",
      "pygments_lexer": "ipython3",
      "version": "3.8"
    },
    "kernelspec": {
      "name": "python",
      "display_name": "Python (Pyodide)",
      "language": "python"
    }
  },
  "nbformat_minor": 4,
  "nbformat": 4,
  "cells": [
    {
      "cell_type": "code",
      "source": "Descargue los datos de: https://raw.githubusercontent.com/asegura4488/Database/main/\nMetodosComputacionalesReforma/EstrellaEspectro.txt Diseñe un algoritmo para encontrar\ntodos los máximos locales en esta serie de datos. La Figura [1] muestra la serie de datos y los\nmáximos locales.\n",
      "metadata": {},
      "execution_count": null,
      "outputs": []
    },
    {
      "cell_type": "code",
      "source": "import numpy as np\nfrom scipy.signal import argrelextrema\n\ndef readinputdata(filename):\n        fichero=open(filename,'r')\n        f=[]\n        line='0'\n        while len(line)>0:\n             line=np.array(fichero.readline().split()).astype(float)\n             if len(line)>0 :\n                 f.append(line)\n        fichero.close()\n        return np.array(f)\n \ndata=readinputdata(\"EstrellaEspectro.txt\")\n \ncolumna=data[:,1]\n        \nprint(columna[argrelextrema(columna, np.greater)[0]])",
      "metadata": {
        "trusted": true
      },
      "execution_count": null,
      "outputs": []
    },
    {
      "cell_type": "code",
      "source": "",
      "metadata": {},
      "execution_count": null,
      "outputs": []
    }
  ]
}