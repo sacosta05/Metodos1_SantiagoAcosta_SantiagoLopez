{
  "nbformat": 4,
  "nbformat_minor": 0,
  "metadata": {
    "colab": {
      "provenance": [],
      "collapsed_sections": []
    },
    "kernelspec": {
      "name": "python3",
      "display_name": "Python 3"
    },
    "language_info": {
      "name": "python"
    }
  },
  "cells": [
    {
      "cell_type": "code",
      "execution_count": 1,
      "metadata": {
        "id": "rSR-Af5BMFCY"
      },
      "outputs": [],
      "source": [
        "import numpy as np"
      ]
    },
    {
      "cell_type": "code",
      "source": [
        "def suma_3_enteros(r,n):\n",
        "    sol = (np.math.factorial(r+n-1))/(np.math.factorial(r) * np.math.factorial(n-1))\n",
        "    return sol"
      ],
      "metadata": {
        "id": "IzyT89VHMNR_"
      },
      "execution_count": 6,
      "outputs": []
    },
    {
      "cell_type": "code",
      "source": [
        "suma_3_enteros(10,3)"
      ],
      "metadata": {
        "colab": {
          "base_uri": "https://localhost:8080/"
        },
        "id": "8XLLwoXxMR6o",
        "outputId": "c03ddb93-68a5-4171-b75c-075962ec9600"
      },
      "execution_count": 7,
      "outputs": [
        {
          "output_type": "execute_result",
          "data": {
            "text/plain": [
              "66.0"
            ]
          },
          "metadata": {},
          "execution_count": 7
        }
      ]
    }
  ]
}