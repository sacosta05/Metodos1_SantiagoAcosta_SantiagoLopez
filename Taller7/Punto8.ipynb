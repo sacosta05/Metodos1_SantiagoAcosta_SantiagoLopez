{
  "nbformat": 4,
  "nbformat_minor": 0,
  "metadata": {
    "colab": {
      "provenance": [],
      "collapsed_sections": []
    },
    "kernelspec": {
      "name": "python3",
      "display_name": "Python 3"
    },
    "language_info": {
      "name": "python"
    }
  },
  "cells": [
    {
      "cell_type": "code",
      "execution_count": 47,
      "metadata": {
        "id": "XAstNms74Vib"
      },
      "outputs": [],
      "source": [
        "import numpy as np\n",
        "import matplotlib.pyplot as plt"
      ]
    },
    {
      "cell_type": "markdown",
      "source": [
        "***PUNTO A***"
      ],
      "metadata": {
        "id": "HrFTBhZt_d4l"
      }
    },
    {
      "cell_type": "code",
      "source": [
        "b = [-3,-3,8,9]\n",
        "\n",
        "u1 = [3,1,0,1]\n",
        "u2 = [1,2,1,1]\n",
        "u3 = [-1,0,2,-1]"
      ],
      "metadata": {
        "id": "0ZZkBcPW5PUw"
      },
      "execution_count": 48,
      "outputs": []
    },
    {
      "cell_type": "code",
      "source": [
        "A_T = np.array([u1, u2, u3])\n",
        "A = A_T.T\n",
        "AT = np.dot(A.T,A)\n",
        "bT = A.T @ b\n",
        "\n",
        "x_sol = np.linalg.solve(AT,bT)\n",
        "proyeccion = np.dot(A,x_sol)\n",
        "print(proyeccion)\n",
        "\n"
      ],
      "metadata": {
        "colab": {
          "base_uri": "https://localhost:8080/"
        },
        "id": "bSSmmZKC54Gk",
        "outputId": "39a84710-29e5-4c60-85f2-d59325c1d8f9"
      },
      "execution_count": 49,
      "outputs": [
        {
          "output_type": "stream",
          "name": "stdout",
          "text": [
            "[-2.0000000e+00  3.0000000e+00  4.0000000e+00 -4.4408921e-16]\n"
          ]
        }
      ]
    },
    {
      "cell_type": "code",
      "source": [
        "proy_r = np.round(proyeccion,0)\n",
        "print(proy_r)\n"
      ],
      "metadata": {
        "colab": {
          "base_uri": "https://localhost:8080/"
        },
        "id": "amh4j8CM7Vfw",
        "outputId": "f54481f2-1688-4369-f2cb-1d99a03f2870"
      },
      "execution_count": 50,
      "outputs": [
        {
          "output_type": "stream",
          "name": "stdout",
          "text": [
            "[-2.  3.  4. -0.]\n"
          ]
        }
      ]
    },
    {
      "cell_type": "markdown",
      "source": [
        "***PUNTO B***"
      ],
      "metadata": {
        "id": "F4f1IUdM_gPP"
      }
    },
    {
      "cell_type": "code",
      "source": [
        "A = np.array([u1, u2, u3])\n",
        "v1 = A[0]/np.linalg.norm(A[0])\n",
        "v2 = A[1] - (np.dot(A[1],v1)/(np.linalg.norm(v1)**2))*v1\n",
        "v2 = v2/np.linalg.norm(v2)\n",
        "v3 = A[2] - (np.dot(A[2],v1)/(np.linalg.norm(v1)**2))*v1 - (np.dot(A[2],v2)/(np.linalg.norm(v2)**2))*v2\n",
        "v3 = v3/np.linalg.norm(v3)"
      ],
      "metadata": {
        "id": "YVf4QSqr81tN"
      },
      "execution_count": 51,
      "outputs": []
    },
    {
      "cell_type": "code",
      "source": [
        "c1 = np.dot(b,v1)\n",
        "c2 = np.dot(b,v2)\n",
        "c3 = np.dot(b,v3)"
      ],
      "metadata": {
        "id": "mrCfc8M4Ayv3"
      },
      "execution_count": 52,
      "outputs": []
    },
    {
      "cell_type": "code",
      "source": [
        "proy_gs = (c1*v1 + c2*v2 + c3*v3)\n",
        "print(proy_gs)"
      ],
      "metadata": {
        "colab": {
          "base_uri": "https://localhost:8080/"
        },
        "id": "zOIYwWuoA5Eh",
        "outputId": "8a9419c8-ce39-4933-a37f-0509eb971b6f"
      },
      "execution_count": 53,
      "outputs": [
        {
          "output_type": "stream",
          "name": "stdout",
          "text": [
            "[-2.00000000e+00  3.00000000e+00  4.00000000e+00  3.33066907e-16]\n"
          ]
        }
      ]
    },
    {
      "cell_type": "code",
      "source": [
        "proy_gs = np.round(proyeccion,0)\n",
        "print(proy_gs)"
      ],
      "metadata": {
        "colab": {
          "base_uri": "https://localhost:8080/"
        },
        "id": "V2wseGOCA_Jr",
        "outputId": "1ff78f41-e849-4912-c061-aa19999dcc57"
      },
      "execution_count": 54,
      "outputs": [
        {
          "output_type": "stream",
          "name": "stdout",
          "text": [
            "[-2.  3.  4. -0.]\n"
          ]
        }
      ]
    }
  ]
}