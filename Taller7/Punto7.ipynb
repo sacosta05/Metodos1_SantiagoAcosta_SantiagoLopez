{
  "nbformat": 4,
  "nbformat_minor": 0,
  "metadata": {
    "colab": {
      "provenance": [],
      "collapsed_sections": []
    },
    "kernelspec": {
      "name": "python3",
      "display_name": "Python 3"
    },
    "language_info": {
      "name": "python"
    }
  },
  "cells": [
    {
      "cell_type": "code",
      "execution_count": 68,
      "metadata": {
        "id": "XAstNms74Vib"
      },
      "outputs": [],
      "source": [
        "import numpy as np\n",
        "import matplotlib.pyplot as plt\n",
        "import sympy as sym\n",
        "from scipy import optimize\n",
        "from scipy.stats import chi2\n",
        "import pandas as pd\n",
        "import os.path as path\n",
        "import urllib.request"
      ]
    },
    {
      "cell_type": "code",
      "source": [
        "file = 'Sigmoid.csv'\n",
        "url = 'https://raw.githubusercontent.com/asegura4488/Database/main/MetodosComputacionalesReforma/Sigmoid.csv'\n",
        "if not path.exists( file ):\n",
        "    Path_ = urllib.request.urlretrieve( url , file )\n",
        "    print( 'File loaded' )\n",
        "else:\n",
        "    Path_ = file"
      ],
      "metadata": {
        "id": "0ZZkBcPW5PUw"
      },
      "execution_count": 67,
      "outputs": []
    },
    {
      "cell_type": "code",
      "source": [
        "Data = pd.read_csv(Path_,sep=',')\n",
        "\n",
        "x = np.float64( Data['x'] )\n",
        "y = np.float64( Data['y'] )\n",
        "n = y.size\n",
        "h = 0.01\n"
      ],
      "metadata": {
        "id": "nsNeaqYiSYxo"
      },
      "execution_count": 138,
      "outputs": []
    },
    {
      "cell_type": "code",
      "source": [
        "## A\n",
        "\n",
        "def Modelo_ajuste(x, theta_0, theta_1, theta_2):\n",
        "    funcion = (theta_0) / (theta_1 + np.exp(-theta_2 * x))\n",
        "    return funcion"
      ],
      "metadata": {
        "id": "dm_JVSsRSt9k"
      },
      "execution_count": 137,
      "outputs": []
    },
    {
      "cell_type": "code",
      "source": [
        "## B\n",
        "\n",
        "def Funcion_costo(x, y, theta_1, theta_2, theta_3):\n",
        "    chi_cuadrado = 0\n",
        "    \n",
        "    for i in range(n):\n",
        "        chi_cuadrado += (y[i] - Modelo_ajuste(x[i],theta_1,theta_2,theta_3))**2\n",
        "    return chi_cuadrado \n"
      ],
      "metadata": {
        "id": "MGgqhCuQZtyx"
      },
      "execution_count": 136,
      "outputs": []
    },
    {
      "cell_type": "code",
      "source": [
        "## C\n",
        "\n",
        "def Derivadas_parciales(x, y, theta_0, theta_1, theta_2):\n",
        "    gradiente = np.zeros(3)\n",
        "    \n",
        "    gradiente[0] = ( Funcion_costo(x, y, theta_0+h, theta_1, theta_2) - Funcion_costo(x, y, theta_0-h, theta_1, theta_2))/(2*h)\n",
        "    gradiente[1] = ( Funcion_costo(x, y, theta_0, theta_1+h, theta_2) - Funcion_costo(x, y, theta_0, theta_1-h, theta_2))/(2*h)\n",
        "    gradiente[2] = ( Funcion_costo(x, y, theta_0, theta_1, theta_2+h) - Funcion_costo(x, y, theta_0, theta_1, theta_2-h))/(2*h)\n",
        "    return gradiente\n",
        "   "
      ],
      "metadata": {
        "id": "nV9BHo3zaZCn"
      },
      "execution_count": 135,
      "outputs": []
    },
    {
      "cell_type": "code",
      "source": [
        "## D\n",
        "\n",
        "def Descenso_gradiente(theta, lr, itmax, error):\n",
        "    \n",
        "    iteracion = 0\n",
        "    distancia = 1\n",
        "    \n",
        "    while distancia > float(error) and iteracion < int(itmax):\n",
        "            x_i = Derivadas_parciales(x, y, theta[0], theta[1], theta[2])\n",
        "            theta = theta - lr * x_i\n",
        "            distancia = np.linalg.norm(theta - optimize.curve_fit(Modelo_ajuste, x, y)[0] )\n",
        "            iteracion += 1\n",
        "                \n",
        "    return theta, distancia,iteracion"
      ],
      "metadata": {
        "id": "HcHtt4H-bsKN"
      },
      "execution_count": 134,
      "outputs": []
    },
    {
      "cell_type": "code",
      "source": [
        "## E\n",
        "\n",
        "Punto_ini = np.array([1,1,1])\n",
        "\n",
        "parametros = Descenso_gradiente(Punto_ini, 5e-4,2e4,1e-2)\n",
        "\n",
        "theta_0 = parametros[0][0]\n",
        "theta_1 = parametros[0][1]\n",
        "theta_2 = parametros[0][2]\n",
        "\n",
        "chi_cuadrado = Funcion_costo(x, y, theta_0, theta_1, theta_2)"
      ],
      "metadata": {
        "id": "kTmLpdjMd8BQ"
      },
      "execution_count": 139,
      "outputs": []
    },
    {
      "cell_type": "code",
      "source": [
        "print(f'Los parámetros θ0, θ1 y θ2 que mejor se ajustan a los datos del sigmoide generado por el archivo Sigmoid.csv son:',\n",
        "      'θ0 = {theta_0}, θ1 = {theta_1},θ2 = {theta_2}')\n",
        "print()\n",
        "print(f'Valor para chi cuadrado de: {chi_cuadrado}')\n",
        "print()\n",
        "print(f'Valor de error absoluto: {parametros[1]}')\n",
        "print()\n",
        "print(f'Total de número de iteraciones: {parametros[2]}')"
      ],
      "metadata": {
        "colab": {
          "base_uri": "https://localhost:8080/"
        },
        "id": "9a2BEXL-eYxc",
        "outputId": "c95f088d-1d8b-4583-d9b8-38935e2a7078"
      },
      "execution_count": 162,
      "outputs": [
        {
          "output_type": "stream",
          "name": "stdout",
          "text": [
            "Los parámetros θ0, θ1 y θ2 que mejor se ajustan a los datos del sigmoide generado por el archivo Sigmoid.csv son: θ0 = {theta_0}, θ1 = {theta_1},θ2 = {theta_2}\n",
            "\n",
            "Valor para chi cuadrado de: 0.10503710593049193\n",
            "\n",
            "Valor de error absoluto: 0.009993016256835128\n",
            "\n",
            "Total de número de iteraciones: 19946\n"
          ]
        }
      ]
    },
    {
      "cell_type": "code",
      "source": [
        "x1 = np.linspace(min(x),max(x),500)\n",
        "fig = plt.figure(figsize=(10,8))\n",
        "ax = fig.add_subplot(1,1,1)\n",
        "ax.scatter(x,y,c='r')\n",
        "plt.plot(x1,Modelo_ajuste(x1,theta_0,theta_1,theta_2),label='Función Sigmoide')\n",
        "plt.legend()\n",
        "plt.title('Chi cuadrado')\n",
        "plt.show()\n"
      ],
      "metadata": {
        "colab": {
          "base_uri": "https://localhost:8080/",
          "height": 499
        },
        "id": "FhCL6hy6eaqq",
        "outputId": "67d9cdfd-877c-43c0-d99c-b43aac99a510"
      },
      "execution_count": 161,
      "outputs": [
        {
          "output_type": "display_data",
          "data": {
            "text/plain": [
              "<Figure size 720x576 with 1 Axes>"
            ],
            "image/png": "[encoded data removed]"
          },
          "metadata": {
            "needs_background": "light"
          }
        }
      ]
    },
    {
      "cell_type": "code",
      "source": [],
      "metadata": {
        "id": "tLttyZ7yigba"
      },
      "execution_count": null,
      "outputs": []
    }
  ]
}