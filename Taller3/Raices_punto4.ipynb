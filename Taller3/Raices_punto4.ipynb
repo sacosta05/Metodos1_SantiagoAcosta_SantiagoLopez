{
  "metadata": {
    "language_info": {
      "codemirror_mode": {
        "name": "python",
        "version": 3
      },
      "file_extension": ".py",
      "mimetype": "text/x-python",
      "name": "python",
      "nbconvert_exporter": "python",
      "pygments_lexer": "ipython3",
      "version": "3.8"
    },
    "kernelspec": {
      "name": "python",
      "display_name": "Python (Pyodide)",
      "language": "python"
    }
  },
  "nbformat_minor": 4,
  "nbformat": 4,
  "cells": [
    {
      "cell_type": "code",
      "source": "import matplotlib\nimport numpy as np\nimport matplotlib.pyplot as plt\nfrom matplotlib import rc\nimport sympy as sym\nimport re\nfrom numpy.polynomial import Polynomial as P",
      "metadata": {
        "trusted": true
      },
      "execution_count": null,
      "outputs": []
    },
    {
      "cell_type": "code",
      "source": "def GetLegendre(n):\n    \n    x = sym.Symbol('x',Real=True)\n    y = sym.Symbol('y',Real=True)\n    \n    y = (x**2-1)**n\n    \n    p = sym.diff(y,x,n)/(2**n * np.math.factorial(n))\n    \n    return p",
      "metadata": {
        "trusted": true
      },
      "execution_count": null,
      "outputs": []
    },
    {
      "cell_type": "code",
      "source": "Legendre = []\n\nn=19\nfor i in range(n+1):\n    Legendre.append(GetLegendre(i))\n\nLeg=str(Legendre)\n#print(Legendre)",
      "metadata": {
        "trusted": true
      },
      "execution_count": null,
      "outputs": []
    },
    {
      "cell_type": "code",
      "source": "def coefs(entrada):\n  regexp = r\"(-?\\d*)(x?)(?:(?:\\^|\\*\\*)(\\d))?\"\n  c = {}\n  for coef, x, exp in re.findall(regexp, entrada):\n     #print(coef, x, exp)\n    if not coef and not x:\n      continue\n    if x and not coef:\n      coef = '1'\n    if x and coef == \"-\":\n      coef = \"-1\"\n    if x and not exp:\n      exp = '1'\n    if coef and not x:\n      exp = '0'\n    exp = ord(exp) & 0x000F\n    c[exp] = float(coef)\n  grado = max(c)\n  coeficientes = [0.0] * (grado+1)\n  for g, v in c.items():\n    coeficientes[g] = v\n  return coeficientes",
      "metadata": {
        "trusted": true
      },
      "execution_count": null,
      "outputs": []
    },
    {
      "cell_type": "code",
      "source": "def coeficientes():\n    for e in Leg:\n     return(coefs(e))",
      "metadata": {
        "trusted": true
      },
      "execution_count": null,
      "outputs": []
    },
    {
      "cell_type": "code",
      "source": "p=P(coeficientes())\nprint(p.roots())",
      "metadata": {
        "trusted": true
      },
      "execution_count": null,
      "outputs": []
    },
    {
      "cell_type": "code",
      "source": "",
      "metadata": {},
      "execution_count": null,
      "outputs": []
    }
  ]
}