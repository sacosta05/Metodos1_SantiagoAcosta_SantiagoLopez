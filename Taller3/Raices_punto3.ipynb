{
  "metadata": {
    "kernelspec": {
      "name": "python",
      "display_name": "Python (Pyodide)",
      "language": "python"
    },
    "language_info": {
      "codemirror_mode": {
        "name": "python",
        "version": 3
      },
      "file_extension": ".py",
      "mimetype": "text/x-python",
      "name": "python",
      "nbconvert_exporter": "python",
      "pygments_lexer": "ipython3",
      "version": "3.8"
    }
  },
  "nbformat_minor": 5,
  "nbformat": 4,
  "cells": [
    {
      "cell_type": "code",
      "source": "import numpy as np\nfrom numpy.polynomial import Polynomial as P",
      "metadata": {
        "trusted": true
      },
      "execution_count": 1,
      "outputs": [],
      "id": "8ddc3d87-1f56-456d-a628-5821457c6d06"
    },
    {
      "cell_type": "code",
      "source": "#3x^5+5x^4-x^3+0x^2+0x+0\np=P([0,0,0,-1,5,3])\nprint(p.roots())",
      "metadata": {
        "trusted": true
      },
      "execution_count": 2,
      "outputs": [
        {
          "name": "stdout",
          "text": "[-1.84712709  0.          0.          0.          0.18046042]\n",
          "output_type": "stream"
        }
      ],
      "id": "ba928fa8-25c7-4bbe-85fa-9f56c28027d6"
    },
    {
      "cell_type": "code",
      "source": "",
      "metadata": {},
      "execution_count": null,
      "outputs": [],
      "id": "b0da1350-78e3-493b-9629-27f7f02bd0af"
    }
  ]
}