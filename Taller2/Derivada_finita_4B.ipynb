{
  "cells": [
    {
      "cell_type": "code",
      "execution_count": 36,
      "metadata": {
        "id": "SjVCTsOPAj-K"
      },
      "outputs": [],
      "source": [
        "import numpy as np\n",
        "import matplotlib.pyplot as plt\n",
        "\n",
        "x = np.linspace(-10, 10, 400)\n",
        "h = 0.05\n",
        "\n",
        "mascara = np.array([1, -2, 1])\n",
        "\n",
        "def f(x):\n",
        "    return 1/np.sqrt(1+np.exp(-x**2))"
      ]
    },
    {
      "cell_type": "code",
      "execution_count": 37,
      "metadata": {
        "id": "O61gzboIAmhX"
      },
      "outputs": [],
      "source": [
        "\n",
        "def Segunda_derivada(x, f, h, mascara):\n",
        "  \n",
        "    sum = 0\n",
        "    for m in range(-1, 2):\n",
        "        sum+= (f(x-m*h)*mascara[m+1])/(h**2)\n",
        "    return sum"
      ]
    },
    {
      "cell_type": "code",
      "execution_count": 39,
      "metadata": {
        "colab": {
          "base_uri": "https://localhost:8080/",
          "height": 281
        },
        "id": "DK-t-GpCCVA2",
        "outputId": "f21768e7-1075-4a87-9ba5-087e5e390d3f"
      },
      "outputs": [
        {
          "output_type": "display_data",
          "data": {
            "text/plain": [
              "<Figure size 432x288 with 1 Axes>"
            ],
            "image/png": "[encoded data removed]"
          },
          "metadata": {
            "needs_background": "light"
          }
        }
      ],
      "source": [
        "resultado = Segunda_derivada(x, f, h, mascara)\n",
        "\n",
        "plt.plot(x, resultado, c='darkblue', linewidth=2)\n",
        "plt.title(\"f ''(x)\")\n",
        "plt.show()"
      ]
    },
    {
      "cell_type": "code",
      "execution_count": null,
      "metadata": {
        "id": "pJheRxBEsr49"
      },
      "outputs": [],
      "source": []
    }
  ],
  "metadata": {
    "colab": {
      "provenance": [],
      "collapsed_sections": []
    },
    "kernelspec": {
      "display_name": "Python 3",
      "name": "python3"
    },
    "language_info": {
      "name": "python"
    }
  },
  "nbformat": 4,
  "nbformat_minor": 0
}