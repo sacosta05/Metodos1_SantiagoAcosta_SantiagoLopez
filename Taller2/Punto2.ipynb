{
  "metadata": {
    "language_info": {
      "codemirror_mode": {
        "name": "python",
        "version": 3
      },
      "file_extension": ".py",
      "mimetype": "text/x-python",
      "name": "python",
      "nbconvert_exporter": "python",
      "pygments_lexer": "ipython3",
      "version": "3.8"
    },
    "kernelspec": {
      "name": "python",
      "display_name": "Python (Pyodide)",
      "language": "python"
    }
  },
  "nbformat_minor": 4,
  "nbformat": 4,
  "cells": [
    {
      "cell_type": "code",
      "source": "import numpy as np\nimport matplotlib.pyplot as plt\nfrom matplotlib import pylab\nfrom matplotlib.patches import Circle\nimport matplotlib.cm as cm",
      "metadata": {
        "trusted": true
      },
      "execution_count": 1,
      "outputs": []
    },
    {
      "cell_type": "code",
      "source": "R = 2.0\nU = 2.0\nx = np.linspace(-4, 4, 25)\ny = np.linspace(-4, 4, 25)",
      "metadata": {
        "trusted": true
      },
      "execution_count": 2,
      "outputs": []
    },
    {
      "cell_type": "code",
      "source": "xx, yy = np.meshgrid(x, y)\n\nrr = np.sqrt(xx ** 2 + yy ** 2)\ntt = np.arctan2(yy, xx)\n\n# Enmascaramos el centro para evitar singularidades\nrr = np.ma.masked_less_equal(rr, R * 0.9)",
      "metadata": {
        "trusted": true
      },
      "execution_count": 3,
      "outputs": []
    },
    {
      "cell_type": "code",
      "source": "# Función potencial\nphi = U * (rr + R ** 2 / rr) * np.cos(tt)\n\n# Función de corriente\npsi = U * (rr - R ** 2 / rr) * np.sin(tt)\n\n# Coeficiente de presiones\nc_p = 2 * R ** 2 / rr ** 2 * np.cos(2 * tt) - R ** 4 / rr ** 4\n\n# Velocidad (polares)\nv_r = U * (1 - R ** 2 / rr ** 2) * np.cos(tt)\nv_theta = -U * (1 + R ** 2 / rr ** 2) * np.sin(tt)\n\n# Velocidad (rectangulares)\nv_x = v_r * np.cos(tt) - v_theta * np.sin(tt)\nv_y = v_r * np.sin(tt) + v_theta * np.cos(tt)\n# Creamos la figura\nfig = plt.figure()\nax = fig.add_subplot(111)\n\n# Cilindro\nc = Circle((0, 0), R, color='#bbbbbb', linewidth=0, zorder=10)\nax.add_patch(c)",
      "metadata": {
        "trusted": true
      },
      "execution_count": 4,
      "outputs": [
        {
          "execution_count": 4,
          "output_type": "execute_result",
          "data": {
            "text/plain": "<matplotlib.patches.Circle at 0x1158760>"
          },
          "metadata": {}
        }
      ]
    },
    {
      "cell_type": "code",
      "source": "# Líneas de corriente\n#ax.streamplot(xx, yy, v_x, v_y, linewidth=0.8, color='k')\nax.quiver(xx,yy,v_x,v_y)\n\n# Etiquetas\nax.set_xlabel('x(cm)')\nax.set_ylabel('y(cm)')\nax.set_title(\"Flujo potencial\")\nax.set_aspect(0.5)\nplt.show()",
      "metadata": {
        "trusted": true
      },
      "execution_count": 9,
      "outputs": [
        {
          "output_type": "display_data",
          "data": {
            "text/plain": "<pyolite.display.Image at 0x30f2a90>",
            "image/png": "[encoded data removed]"
          },
          "metadata": {}
        }
      ]
    },
    {
      "cell_type": "code",
      "source": "",
      "metadata": {},
      "execution_count": null,
      "outputs": []
    }
  ]
}