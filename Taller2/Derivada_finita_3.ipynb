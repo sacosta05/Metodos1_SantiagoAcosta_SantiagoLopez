{
  "nbformat": 4,
  "nbformat_minor": 0,
  "metadata": {
    "colab": {
      "provenance": [],
      "collapsed_sections": []
    },
    "kernelspec": {
      "name": "python3",
      "display_name": "Python 3"
    },
    "language_info": {
      "name": "python"
    }
  },
  "cells": [
    {
      "cell_type": "code",
      "source": [
        "import numpy as np\n",
        "import matplotlib.pyplot as plt\n",
        "\n",
        "x = np.linspace(-10, 10, 400)\n",
        "h = 0.05\n",
        "\n",
        "mascara = np.array([1.0, 0, -1.0])\n",
        "\n",
        "def f(x):\n",
        "    return 1/np.sqrt(1+np.exp(-x**2))"
      ],
      "metadata": {
        "id": "M000ktY_rhJf"
      },
      "execution_count": 56,
      "outputs": []
    },
    {
      "cell_type": "code",
      "source": [
        "def operador_derivada(f, x, h, mascara):\n",
        "    sum=0\n",
        "    for m in mascara:\n",
        "        sum -= f(x-m*h)*m\n",
        "    sum /= (2*h)\n",
        "    return sum\n"
      ],
      "metadata": {
        "id": "XNuEbRrxtCtM"
      },
      "execution_count": 57,
      "outputs": []
    },
    {
      "cell_type": "code",
      "source": [
        "convolucion = operador_derivada(f,x,h,mascara)\n",
        "\n",
        "plt.plot(x, convolucion,  c='darkblue', linewidth=2)\n",
        "plt.title(\"f '(x)\", size=20, c='black')\n",
        "plt.show()"
      ],
      "metadata": {
        "colab": {
          "base_uri": "https://localhost:8080/",
          "height": 286
        },
        "id": "PrU8s1kD0D0t",
        "outputId": "acb7d7ae-f8ad-40f4-e836-ba8c7c459d96"
      },
      "execution_count": 58,
      "outputs": [
        {
          "output_type": "display_data",
          "data": {
            "text/plain": [
              "<Figure size 432x288 with 1 Axes>"
            ],
            "image/png": "[encoded data removed]"
          },
          "metadata": {
            "needs_background": "light"
          }
        }
      ]
    },
    {
      "cell_type": "code",
      "source": [],
      "metadata": {
        "id": "qs_xlJnU4R4F"
      },
      "execution_count": null,
      "outputs": []
    }
  ]
}